{
 "cells": [
  {
   "cell_type": "code",
<<<<<<< HEAD
   "execution_count": 32,
=======
   "execution_count": 1,
>>>>>>> development
   "id": "92fa56f3",
   "metadata": {},
   "outputs": [],
   "source": [
<<<<<<< HEAD
    "import requests\n",
    "from datetime import datetime"
=======
    "import requests"
>>>>>>> development
   ]
  },
  {
   "cell_type": "code",
<<<<<<< HEAD
   "execution_count": 28,
=======
   "execution_count": 13,
>>>>>>> development
   "id": "43aa1957",
   "metadata": {},
   "outputs": [],
   "source": [
    "params = {\n",
    "    'access_key': ''\n",
    "}\n",
    "URL_BASE = 'http://api.aviationstack.com/v1/'\n",
    "\n",
    "endpoints = {\n",
    "    \"AIRPORTS\": 'airports',\n",
    "    \"FLIGHTS\": 'flights',\n",
    "    \"AIRLINES\": 'airlines',\n",
    "    \"AIRPLANES\": 'airplanes',\n",
    "    \"AIRCRAFT_TYPES\": 'aircraft_types',\n",
    "    \"TAXES\": 'taxes',\n",
    "    \"CITIES\": 'cities',\n",
    "    \"COUNTRIES\": 'countries'\n",
    "}"
   ]
  },
  {
   "cell_type": "code",
<<<<<<< HEAD
   "execution_count": 4,
=======
   "execution_count": 3,
>>>>>>> development
   "id": "c4ab53bd",
   "metadata": {},
   "outputs": [],
   "source": [
<<<<<<< HEAD
    "def extraction_flights(flights_response, date_inspection):\n",
=======
    "def transform_flights(flights_response, date_inspection):\n",
>>>>>>> development
    "    flights_list = []\n",
    "    for element in flights_response:\n",
    "        flight ={\n",
    "            \"flight_date\":element['flight_date'],\n",
    "            \"flight_status\":element['flight_status'],\n",
    "            \"departure_airport\": element['departure']['airport'],\n",
    "            \"departure_timezone\": element['departure']['timezone'],\n",
    "            \"departure_iata\": element['departure']['iata'],\n",
    "            \"departure_icao\": element['departure']['icao'],\n",
    "            \"departure_gate\": element['departure']['gate'],\n",
    "            \"departure_delay\": element['departure']['delay'],\n",
    "            \"departure_scheduled\": element['departure']['scheduled'],\n",
    "            \"departure_estimated\": element['departure']['estimated'],\n",
    "            \"departure_actual\": element['departure']['actual'],\n",
    "            \"departure_estimated_runway\": element['departure']['estimated_runway'],\n",
    "            \"departure_actual_runway\": element['departure']['actual_runway'],\n",
    "            \"arrival_airport\": element['arrival']['airport'],\n",
    "            \"arrival_timezone\": element['arrival']['timezone'],\n",
    "            \"arrival_iata\": element['arrival']['iata'],\n",
    "            \"arrival_icao\": element['arrival']['icao'],\n",
    "            \"arrival_terminal\": element['arrival']['terminal'],\n",
    "            \"arrival_gate\": element['arrival']['gate'],\n",
    "            \"arrival_baggage\": element['arrival']['baggage'],\n",
    "            \"arrival_delay\": element['arrival']['delay'],\n",
    "            \"arrival_scheduled\": element['arrival']['scheduled'],\n",
    "            \"arrival_estimated\": element['arrival']['estimated'],\n",
    "            \"arrival_actual\": element['arrival']['actual'],\n",
    "            \"arrival_estimated_runway\": element['arrival']['estimated_runway'],\n",
    "            \"arrival_actual_runway\": element['arrival']['actual_runway'],\n",
    "            \"airline_name\": element['airline']['name'],\n",
    "            \"airline_iata\": element['airline']['iata'],\n",
    "            \"airline_icao\": element['airline']['icao'],\n",
    "            \"flight_number\": element['flight']['number'],\n",
    "            \"flight_iata\": element['flight']['iata'],\n",
    "            \"flight_icao\": element['flight']['icao'],\n",
    "            \"flight_codeshared\": element['flight']['codeshared'],\n",
    "            \"aircraft\":\"None\",\n",
    "            \"live\":\"None\",\n",
    "            \"date_inspection\": date_inspection\n",
    "            \n",
    "        }\n",
    "        flights_list.append(flight)\n",
    "    return flights_list"
   ]
  },
  {
   "cell_type": "code",
<<<<<<< HEAD
   "execution_count": 5,
=======
   "execution_count": 4,
>>>>>>> development
   "id": "19199301",
   "metadata": {},
   "outputs": [],
   "source": [
<<<<<<< HEAD
    "def extraction_airports(airports_response, date_inspection):\n",
=======
    "def transform_airports(airports_response, date_inspection):\n",
>>>>>>> development
    "    airports_list = []\n",
    "    for element in airports_response:\n",
    "        airport = {\n",
    "            \"airport_name\": element['airport_name'],\n",
    "            \"iata_code\": element['iata_code'],\n",
    "            \"icao_code\": element['icao_code'],\n",
    "            \"latitude\": element['latitude'],\n",
    "            \"longitude\": element['longitude'],\n",
    "            \"geoname_id\": element['geoname_id'],\n",
    "            \"timezone\": element['timezone'],\n",
    "            \"gmt\": element['gmt'],\n",
    "            \"phone_number\": element['phone_number'],\n",
    "            \"country_name\": element['country_name'],\n",
    "            \"country_iso2\":element['country_iso2'],\n",
    "            \"city_iata_code\":element['city_iata_code'],\n",
    "            \"date_inspection\": date_inspection\n",
    "        }\n",
    "        airports_list.append(airport)\n",
    "    return airports_list"
   ]
  },
  {
   "cell_type": "code",
<<<<<<< HEAD
   "execution_count": 6,
=======
   "execution_count": 5,
>>>>>>> development
   "id": "1779f878",
   "metadata": {},
   "outputs": [],
   "source": [
<<<<<<< HEAD
    "def extraction_airlines(airlines_response, date_inspection):\n",
=======
    "def transform_airlines(airlines_response, date_inspection):\n",
>>>>>>> development
    "    airlines_list = []\n",
    "    for element in airlines_response:\n",
    "        airline = {\n",
    "            \"airline_name\": element['airline_name'],\n",
    "            \"iata_code\": element['iata_code'],\n",
    "            \"iata_prefix_accounting\": element['iata_prefix_accounting'],\n",
    "            \"icao_code\": element['icao_code'],\n",
    "            \"callsign\": element['callsign'],\n",
    "            \"type\": element['type'],\n",
    "            \"status\": element['status'],\n",
    "            \"fleet_size\": element['fleet_size'],\n",
    "            \"fleet_average_age\": element['fleet_average_age'],\n",
    "            \"date_founded\": element['date_founded'],\n",
    "            \"hub_code\": element['hub_code'],\n",
    "            \"country_name\": element['country_name'],\n",
    "            \"country_iso2\": element['country_iso2'],\n",
    "            \"date_inspection\": date_inspection\n",
    "        }\n",
    "        airlines_list.append(airline)\n",
    "    return airlines_list"
   ]
  },
  {
   "cell_type": "code",
<<<<<<< HEAD
   "execution_count": 7,
=======
   "execution_count": 6,
>>>>>>> development
   "id": "c308b3ce",
   "metadata": {},
   "outputs": [],
   "source": [
<<<<<<< HEAD
    "def extraction_taxes(taxes_response, date_inspection):\n",
=======
    "def transform_taxes(taxes_response, date_inspection):\n",
>>>>>>> development
    "    taxes_list = []\n",
    "    for element in taxes_response:\n",
    "        taxe = {\n",
    "            \"tax_name\": element[\"tax_name\"],\n",
    "            \"iata_code\": element[\"iata_code\"],\n",
    "            \"date_inspection\": date_inspection\n",
    "        }\n",
    "        taxes_list.append(taxe)\n",
    "    return taxes_list"
   ]
  },
  {
   "cell_type": "code",
<<<<<<< HEAD
   "execution_count": 8,
=======
   "execution_count": 7,
>>>>>>> development
   "id": "1856d151",
   "metadata": {},
   "outputs": [],
   "source": [
<<<<<<< HEAD
    "def extraction_aircraft_types(aircraft_types_response, date_inspection):\n",
=======
    "def transform_aircraft_types(aircraft_types_response, date_inspection):\n",
>>>>>>> development
    "    aircraft_types_list = []\n",
    "    for element in aircraft_types_response:\n",
    "        aircraft = {\n",
    "            \"aircraft_name\": element[\"aircraft_name\"],\n",
    "            \"iata_code\": element[\"iata_code\"],\n",
    "            \"date_inspection\": date_inspection\n",
    "        }\n",
    "        aircraft_types_list.append(aircraft)\n",
    "    return aircraft_types_list"
   ]
  },
  {
   "cell_type": "code",
<<<<<<< HEAD
   "execution_count": 9,
=======
   "execution_count": 8,
>>>>>>> development
   "id": "f6490200",
   "metadata": {},
   "outputs": [],
   "source": [
<<<<<<< HEAD
    "def extraction_cities(cities_response, date_inspection):\n",
=======
    "def transform_cities(cities_response, date_inspection):\n",
>>>>>>> development
    "    cities_list = []\n",
    "    for element in cities_response:\n",
    "        city = {\n",
    "            \"city_name\": element['city_name'],\n",
    "            \"iata_code\": element['iata_code'],\n",
    "            \"country_iso2\": element['country_iso2'],\n",
    "            \"latitude\": element['latitude'],\n",
    "            \"longitude\": element['longitude'],\n",
    "            \"timezone\": element['timezone'],\n",
    "            \"gmt\": element['gmt'],\n",
    "            \"geoname_id\": element['geoname_id'],\n",
    "            \"date_inspection\": date_inspection\n",
    "        }\n",
    "        cities_list.append(city)\n",
    "    return cities_list"
   ]
  },
  {
   "cell_type": "code",
<<<<<<< HEAD
   "execution_count": 10,
=======
   "execution_count": 9,
>>>>>>> development
   "id": "d4af03ff",
   "metadata": {},
   "outputs": [],
   "source": [
<<<<<<< HEAD
    "def extraction_countries(countries_response, date_inspection):\n",
=======
    "def transform_countries(countries_response, date_inspection):\n",
>>>>>>> development
    "    countries_list = []\n",
    "    for element in countries_response:\n",
    "        country = {\n",
    "            \"country_name\": element['country_name'],\n",
    "            \"country_iso2\": element['country_iso2'],\n",
    "            \"country_iso3\": element['country_iso3'],\n",
    "            \"country_iso_numeric\":element['country_iso_numeric'],\n",
    "            \"population\": element['population'],\n",
    "            \"capital\": element['capital'],\n",
    "            \"continent\": element['continent'],\n",
    "            \"currency_name\": element['currency_name'],\n",
    "            \"currency_code\": element['currency_code'],\n",
    "            \"fips_code\": element['fips_code'],\n",
    "            \"phone_prefix\": element['phone_prefix'],\n",
    "            \"date_inspection\": date_inspection\n",
    "        }\n",
    "        countries_list.append(country)\n",
    "    return countries_list"
   ]
  },
  {
   "cell_type": "code",
<<<<<<< HEAD
   "execution_count": 29,
=======
   "execution_count": 14,
>>>>>>> development
   "id": "da36a969",
   "metadata": {},
   "outputs": [],
   "source": [
<<<<<<< HEAD
    "#Llamada a la API\n",
    "api_result_airlines = requests.get(URL_BASE+endpoints['AIRLINES'], params)\n",
    "api_result_flights = requests.get(URL_BASE+endpoints['FLIGHTS'], params)\n",
    "api_result_airports = requests.get(URL_BASE+endpoints['AIRPORTS'], params)\n",
    "\n",
    "\n",
    "# Carga en formato Json\n",
    "api_response_airlines = api_result_airlines.json()\n",
    "api_response_flights = api_result_flights.json()\n",
    "api_response_airports = api_result_airports.json()"
=======
    "api_result = requests.get(URL_BASE+endpoints['TAXES'], params)\n",
    "\n",
    "api_response = api_result.json()"
>>>>>>> development
   ]
  },
  {
   "cell_type": "code",
<<<<<<< HEAD
   "execution_count": 33,
   "id": "fdd2d7c0",
   "metadata": {},
   "outputs": [
    {
     "name": "stdout",
     "output_type": "stream",
     "text": [
      "Capture un error en la obtencion de la data\n"
     ]
    }
   ],
   "source": [
    "if (api_result_airlines.ok and api_result_flights.ok and api_result_airports.ok):\n",
    "    print('Respuesta Exitosa')\n",
    "    date_inspection = datetime.now()\n",
    "    airlines_list = extraction_airlines(api_response_airlines, date_inspection)\n",
    "    flights_list = extraction_flights(api_response_flights, date_inspection)\n",
    "    airports_list = extraction_airports(api_response_airports, date_inspection)\n",
    "else:\n",
    "    print('Capture un error en la obtencion de la data')\n",
    "    "
   ]
  },
  {
   "cell_type": "code",
   "execution_count": null,
   "id": "53069482",
=======
   "execution_count": null,
   "id": "fdd2d7c0",
>>>>>>> development
   "metadata": {},
   "outputs": [],
   "source": []
  }
 ],
 "metadata": {
  "kernelspec": {
   "display_name": "Python 3 (ipykernel)",
   "language": "python",
   "name": "python3"
  },
  "language_info": {
   "codemirror_mode": {
    "name": "ipython",
    "version": 3
   },
   "file_extension": ".py",
   "mimetype": "text/x-python",
   "name": "python",
   "nbconvert_exporter": "python",
   "pygments_lexer": "ipython3",
   "version": "3.9.7"
  }
 },
 "nbformat": 4,
 "nbformat_minor": 5
}
